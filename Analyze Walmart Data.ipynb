{
 "cells": [
  {
   "cell_type": "markdown",
   "id": "92ee29a8-2406-4724-ad88-f8c68ea623c3",
   "metadata": {},
   "source": [
    "# Load Data"
   ]
  },
  {
   "cell_type": "code",
   "execution_count": 3,
   "id": "98a62740-3cd4-4372-99ad-1effdf75f119",
   "metadata": {},
   "outputs": [],
   "source": [
    "import pandas as pd\n",
    "\n",
    "# Load the CSV file\n",
    "walmart_df = pd.read_csv(r\"C:\\Users\\augus\\OneDrive\\Documents\\Data analysis data\\Walmart.csv\")\n",
    "\n"
   ]
  },
  {
   "cell_type": "markdown",
   "id": "4f0ea735-fe8b-4113-aeca-a0cf2dfe0b88",
   "metadata": {},
   "source": [
    "For preprocessing form this project I have been told to make sure my \n",
    "- no rows with any null values kept\n",
    "- no duplicate rows left\n",
    "- date time columns are in datetime format\n",
    "- unit price is in integer/float format\n",
    "- make a new column called total price which will = unit_price * quantity"
   ]
  },
  {
   "cell_type": "markdown",
   "id": "ce603feb-a313-48a9-ae94-ccb8793d15ab",
   "metadata": {},
   "source": [
    "# Analyze Data"
   ]
  },
  {
   "cell_type": "code",
   "execution_count": 6,
   "id": "ca3bad22-b89e-4016-85ab-a55357908db5",
   "metadata": {},
   "outputs": [
    {
     "data": {
      "text/html": [
       "<div>\n",
       "<style scoped>\n",
       "    .dataframe tbody tr th:only-of-type {\n",
       "        vertical-align: middle;\n",
       "    }\n",
       "\n",
       "    .dataframe tbody tr th {\n",
       "        vertical-align: top;\n",
       "    }\n",
       "\n",
       "    .dataframe thead th {\n",
       "        text-align: right;\n",
       "    }\n",
       "</style>\n",
       "<table border=\"1\" class=\"dataframe\">\n",
       "  <thead>\n",
       "    <tr style=\"text-align: right;\">\n",
       "      <th></th>\n",
       "      <th>invoice_id</th>\n",
       "      <th>Branch</th>\n",
       "      <th>City</th>\n",
       "      <th>category</th>\n",
       "      <th>unit_price</th>\n",
       "      <th>quantity</th>\n",
       "      <th>date</th>\n",
       "      <th>time</th>\n",
       "      <th>payment_method</th>\n",
       "      <th>rating</th>\n",
       "      <th>profit_margin</th>\n",
       "    </tr>\n",
       "  </thead>\n",
       "  <tbody>\n",
       "    <tr>\n",
       "      <th>0</th>\n",
       "      <td>1</td>\n",
       "      <td>WALM003</td>\n",
       "      <td>San Antonio</td>\n",
       "      <td>Health and beauty</td>\n",
       "      <td>$74.69</td>\n",
       "      <td>7.0</td>\n",
       "      <td>05/01/19</td>\n",
       "      <td>13:08:00</td>\n",
       "      <td>Ewallet</td>\n",
       "      <td>9.1</td>\n",
       "      <td>0.48</td>\n",
       "    </tr>\n",
       "    <tr>\n",
       "      <th>1</th>\n",
       "      <td>2</td>\n",
       "      <td>WALM048</td>\n",
       "      <td>Harlingen</td>\n",
       "      <td>Electronic accessories</td>\n",
       "      <td>$15.28</td>\n",
       "      <td>5.0</td>\n",
       "      <td>08/03/19</td>\n",
       "      <td>10:29:00</td>\n",
       "      <td>Cash</td>\n",
       "      <td>9.6</td>\n",
       "      <td>0.48</td>\n",
       "    </tr>\n",
       "    <tr>\n",
       "      <th>2</th>\n",
       "      <td>3</td>\n",
       "      <td>WALM067</td>\n",
       "      <td>Haltom City</td>\n",
       "      <td>Home and lifestyle</td>\n",
       "      <td>$46.33</td>\n",
       "      <td>7.0</td>\n",
       "      <td>03/03/19</td>\n",
       "      <td>13:23:00</td>\n",
       "      <td>Credit card</td>\n",
       "      <td>7.4</td>\n",
       "      <td>0.33</td>\n",
       "    </tr>\n",
       "    <tr>\n",
       "      <th>3</th>\n",
       "      <td>4</td>\n",
       "      <td>WALM064</td>\n",
       "      <td>Bedford</td>\n",
       "      <td>Health and beauty</td>\n",
       "      <td>$58.22</td>\n",
       "      <td>8.0</td>\n",
       "      <td>27/01/19</td>\n",
       "      <td>20:33:00</td>\n",
       "      <td>Ewallet</td>\n",
       "      <td>8.4</td>\n",
       "      <td>0.33</td>\n",
       "    </tr>\n",
       "    <tr>\n",
       "      <th>4</th>\n",
       "      <td>5</td>\n",
       "      <td>WALM013</td>\n",
       "      <td>Irving</td>\n",
       "      <td>Sports and travel</td>\n",
       "      <td>$86.31</td>\n",
       "      <td>7.0</td>\n",
       "      <td>08/02/19</td>\n",
       "      <td>10:37:00</td>\n",
       "      <td>Ewallet</td>\n",
       "      <td>5.3</td>\n",
       "      <td>0.48</td>\n",
       "    </tr>\n",
       "  </tbody>\n",
       "</table>\n",
       "</div>"
      ],
      "text/plain": [
       "   invoice_id   Branch         City                category unit_price  \\\n",
       "0           1  WALM003  San Antonio       Health and beauty     $74.69   \n",
       "1           2  WALM048    Harlingen  Electronic accessories     $15.28   \n",
       "2           3  WALM067  Haltom City      Home and lifestyle     $46.33   \n",
       "3           4  WALM064      Bedford       Health and beauty     $58.22   \n",
       "4           5  WALM013       Irving       Sports and travel     $86.31   \n",
       "\n",
       "   quantity      date      time payment_method  rating  profit_margin  \n",
       "0       7.0  05/01/19  13:08:00        Ewallet     9.1           0.48  \n",
       "1       5.0  08/03/19  10:29:00           Cash     9.6           0.48  \n",
       "2       7.0  03/03/19  13:23:00    Credit card     7.4           0.33  \n",
       "3       8.0  27/01/19  20:33:00        Ewallet     8.4           0.33  \n",
       "4       7.0  08/02/19  10:37:00        Ewallet     5.3           0.48  "
      ]
     },
     "execution_count": 6,
     "metadata": {},
     "output_type": "execute_result"
    }
   ],
   "source": [
    "#show the top 5 rows\n",
    "walmart_df.head()"
   ]
  },
  {
   "cell_type": "code",
   "execution_count": 7,
   "id": "3efa81eb-b359-44c3-b865-7142cb40b302",
   "metadata": {},
   "outputs": [
    {
     "name": "stdout",
     "output_type": "stream",
     "text": [
      "invoice_id         0\n",
      "Branch             0\n",
      "City               0\n",
      "category           0\n",
      "unit_price        31\n",
      "quantity          31\n",
      "date               0\n",
      "time               0\n",
      "payment_method     0\n",
      "rating             0\n",
      "profit_margin      0\n",
      "dtype: int64\n"
     ]
    }
   ],
   "source": [
    "#I want to make sure the data is clean \n",
    "\n",
    "#check for missing values in columns\n",
    "print(walmart_df.isnull().sum())"
   ]
  },
  {
   "cell_type": "code",
   "execution_count": 8,
   "id": "4f843134-c2e9-49aa-ac8d-a12dd9669e58",
   "metadata": {},
   "outputs": [],
   "source": [
    "#Drop rows with any null values\n",
    "walmart_df = walmart_df.dropna()"
   ]
  },
  {
   "cell_type": "code",
   "execution_count": 9,
   "id": "fdb83185-8699-42c7-9921-e41bf21920a4",
   "metadata": {},
   "outputs": [
    {
     "name": "stdout",
     "output_type": "stream",
     "text": [
      "invoice_id        0\n",
      "Branch            0\n",
      "City              0\n",
      "category          0\n",
      "unit_price        0\n",
      "quantity          0\n",
      "date              0\n",
      "time              0\n",
      "payment_method    0\n",
      "rating            0\n",
      "profit_margin     0\n",
      "dtype: int64\n"
     ]
    }
   ],
   "source": [
    "print(walmart_df.isnull().sum())"
   ]
  },
  {
   "cell_type": "code",
   "execution_count": 10,
   "id": "2e5b2bb1-0116-4925-8d4e-ee6f65ca50b8",
   "metadata": {},
   "outputs": [
    {
     "data": {
      "text/plain": [
       "51"
      ]
     },
     "execution_count": 10,
     "metadata": {},
     "output_type": "execute_result"
    }
   ],
   "source": [
    "#how many duplicate rows we have\n",
    "walmart_df.duplicated().sum()"
   ]
  },
  {
   "cell_type": "code",
   "execution_count": 11,
   "id": "9a16ed0f-1bba-428c-91cf-f84122ff9ca6",
   "metadata": {},
   "outputs": [],
   "source": [
    "#drop the duplicate rows\n",
    "walmart_df = walmart_df.drop_duplicates()"
   ]
  },
  {
   "cell_type": "code",
   "execution_count": 12,
   "id": "5b7658dc-b28d-4a6d-a57f-8117bb564a69",
   "metadata": {},
   "outputs": [
    {
     "data": {
      "text/plain": [
       "0"
      ]
     },
     "execution_count": 12,
     "metadata": {},
     "output_type": "execute_result"
    }
   ],
   "source": [
    "walmart_df.duplicated().sum()"
   ]
  },
  {
   "cell_type": "code",
   "execution_count": 13,
   "id": "4288e44a-58db-48b3-b71a-bdf880b0644e",
   "metadata": {},
   "outputs": [
    {
     "data": {
      "text/plain": [
       "invoice_id          int64\n",
       "Branch             object\n",
       "City               object\n",
       "category           object\n",
       "unit_price         object\n",
       "quantity          float64\n",
       "date               object\n",
       "time               object\n",
       "payment_method     object\n",
       "rating            float64\n",
       "profit_margin     float64\n",
       "dtype: object"
      ]
     },
     "execution_count": 13,
     "metadata": {},
     "output_type": "execute_result"
    }
   ],
   "source": [
    "walmart_df.dtypes"
   ]
  },
  {
   "cell_type": "code",
   "execution_count": 14,
   "id": "ce267d59-d8e6-4f4c-82cc-c06145fdbd8b",
   "metadata": {},
   "outputs": [],
   "source": [
    "#Convert 'date' to datetime format and 'time' to time format\n",
    "walmart_df['date'] = pd.to_datetime(walmart_df['date'], format='%d/%m/%y')\n",
    "walmart_df['time'] = pd.to_datetime(walmart_df['time'], format='%H:%M:%S').dt.time\n",
    "\n"
   ]
  },
  {
   "cell_type": "code",
   "execution_count": 15,
   "id": "c8b0b758-807a-4f10-910b-8177a40ce2fa",
   "metadata": {},
   "outputs": [
    {
     "name": "stderr",
     "output_type": "stream",
     "text": [
      "<>:2: SyntaxWarning: invalid escape sequence '\\$'\n",
      "<>:2: SyntaxWarning: invalid escape sequence '\\$'\n",
      "C:\\Users\\augus\\AppData\\Local\\Temp\\ipykernel_33372\\3953933776.py:2: SyntaxWarning: invalid escape sequence '\\$'\n",
      "  walmart_df['unit_price'] = walmart_df['unit_price'].replace({'\\$': '', ',': ''}, regex=True).astype(float)\n"
     ]
    }
   ],
   "source": [
    "# Remove dollar sign and convert 'unit_price' to a numeric format\n",
    "walmart_df['unit_price'] = walmart_df['unit_price'].replace({'\\$': '', ',': ''}, regex=True).astype(float)"
   ]
  },
  {
   "cell_type": "code",
   "execution_count": 16,
   "id": "759a9b95-6f1d-4730-a92d-5c83a6973c88",
   "metadata": {},
   "outputs": [
    {
     "data": {
      "text/plain": [
       "invoice_id                 int64\n",
       "Branch                    object\n",
       "City                      object\n",
       "category                  object\n",
       "unit_price               float64\n",
       "quantity                 float64\n",
       "date              datetime64[ns]\n",
       "time                      object\n",
       "payment_method            object\n",
       "rating                   float64\n",
       "profit_margin            float64\n",
       "dtype: object"
      ]
     },
     "execution_count": 16,
     "metadata": {},
     "output_type": "execute_result"
    }
   ],
   "source": [
    "walmart_df.dtypes"
   ]
  },
  {
   "cell_type": "code",
   "execution_count": 17,
   "id": "36a8b4fb-4481-44e1-8723-4ff8435a3cf6",
   "metadata": {},
   "outputs": [
    {
     "data": {
      "text/html": [
       "<div>\n",
       "<style scoped>\n",
       "    .dataframe tbody tr th:only-of-type {\n",
       "        vertical-align: middle;\n",
       "    }\n",
       "\n",
       "    .dataframe tbody tr th {\n",
       "        vertical-align: top;\n",
       "    }\n",
       "\n",
       "    .dataframe thead th {\n",
       "        text-align: right;\n",
       "    }\n",
       "</style>\n",
       "<table border=\"1\" class=\"dataframe\">\n",
       "  <thead>\n",
       "    <tr style=\"text-align: right;\">\n",
       "      <th></th>\n",
       "      <th>invoice_id</th>\n",
       "      <th>Branch</th>\n",
       "      <th>City</th>\n",
       "      <th>category</th>\n",
       "      <th>unit_price</th>\n",
       "      <th>quantity</th>\n",
       "      <th>date</th>\n",
       "      <th>time</th>\n",
       "      <th>payment_method</th>\n",
       "      <th>rating</th>\n",
       "      <th>profit_margin</th>\n",
       "    </tr>\n",
       "  </thead>\n",
       "  <tbody>\n",
       "    <tr>\n",
       "      <th>0</th>\n",
       "      <td>1</td>\n",
       "      <td>WALM003</td>\n",
       "      <td>San Antonio</td>\n",
       "      <td>Health and beauty</td>\n",
       "      <td>74.69</td>\n",
       "      <td>7.0</td>\n",
       "      <td>2019-01-05</td>\n",
       "      <td>13:08:00</td>\n",
       "      <td>Ewallet</td>\n",
       "      <td>9.1</td>\n",
       "      <td>0.48</td>\n",
       "    </tr>\n",
       "    <tr>\n",
       "      <th>1</th>\n",
       "      <td>2</td>\n",
       "      <td>WALM048</td>\n",
       "      <td>Harlingen</td>\n",
       "      <td>Electronic accessories</td>\n",
       "      <td>15.28</td>\n",
       "      <td>5.0</td>\n",
       "      <td>2019-03-08</td>\n",
       "      <td>10:29:00</td>\n",
       "      <td>Cash</td>\n",
       "      <td>9.6</td>\n",
       "      <td>0.48</td>\n",
       "    </tr>\n",
       "    <tr>\n",
       "      <th>2</th>\n",
       "      <td>3</td>\n",
       "      <td>WALM067</td>\n",
       "      <td>Haltom City</td>\n",
       "      <td>Home and lifestyle</td>\n",
       "      <td>46.33</td>\n",
       "      <td>7.0</td>\n",
       "      <td>2019-03-03</td>\n",
       "      <td>13:23:00</td>\n",
       "      <td>Credit card</td>\n",
       "      <td>7.4</td>\n",
       "      <td>0.33</td>\n",
       "    </tr>\n",
       "    <tr>\n",
       "      <th>3</th>\n",
       "      <td>4</td>\n",
       "      <td>WALM064</td>\n",
       "      <td>Bedford</td>\n",
       "      <td>Health and beauty</td>\n",
       "      <td>58.22</td>\n",
       "      <td>8.0</td>\n",
       "      <td>2019-01-27</td>\n",
       "      <td>20:33:00</td>\n",
       "      <td>Ewallet</td>\n",
       "      <td>8.4</td>\n",
       "      <td>0.33</td>\n",
       "    </tr>\n",
       "    <tr>\n",
       "      <th>4</th>\n",
       "      <td>5</td>\n",
       "      <td>WALM013</td>\n",
       "      <td>Irving</td>\n",
       "      <td>Sports and travel</td>\n",
       "      <td>86.31</td>\n",
       "      <td>7.0</td>\n",
       "      <td>2019-02-08</td>\n",
       "      <td>10:37:00</td>\n",
       "      <td>Ewallet</td>\n",
       "      <td>5.3</td>\n",
       "      <td>0.48</td>\n",
       "    </tr>\n",
       "  </tbody>\n",
       "</table>\n",
       "</div>"
      ],
      "text/plain": [
       "   invoice_id   Branch         City                category  unit_price  \\\n",
       "0           1  WALM003  San Antonio       Health and beauty       74.69   \n",
       "1           2  WALM048    Harlingen  Electronic accessories       15.28   \n",
       "2           3  WALM067  Haltom City      Home and lifestyle       46.33   \n",
       "3           4  WALM064      Bedford       Health and beauty       58.22   \n",
       "4           5  WALM013       Irving       Sports and travel       86.31   \n",
       "\n",
       "   quantity       date      time payment_method  rating  profit_margin  \n",
       "0       7.0 2019-01-05  13:08:00        Ewallet     9.1           0.48  \n",
       "1       5.0 2019-03-08  10:29:00           Cash     9.6           0.48  \n",
       "2       7.0 2019-03-03  13:23:00    Credit card     7.4           0.33  \n",
       "3       8.0 2019-01-27  20:33:00        Ewallet     8.4           0.33  \n",
       "4       7.0 2019-02-08  10:37:00        Ewallet     5.3           0.48  "
      ]
     },
     "execution_count": 17,
     "metadata": {},
     "output_type": "execute_result"
    }
   ],
   "source": [
    "walmart_df.head()"
   ]
  },
  {
   "cell_type": "code",
   "execution_count": null,
   "id": "f6bb780e-7d6e-40c2-b1e3-aacf2fa624a7",
   "metadata": {},
   "outputs": [],
   "source": []
  },
  {
   "cell_type": "code",
   "execution_count": 18,
   "id": "55d50be9-d0cd-4df4-a8e2-0b18d11658b7",
   "metadata": {},
   "outputs": [],
   "source": [
    "#any values below 0 store in df\n",
    "invalid_values = walmart_df[\n",
    "        (walmart_df['quantity'] < 0) | \n",
    "        (walmart_df['profit_margin'] < 0)\n",
    "    ]"
   ]
  },
  {
   "cell_type": "code",
   "execution_count": 19,
   "id": "6b668c36-7ab5-4703-abfe-f9364243f7a9",
   "metadata": {},
   "outputs": [],
   "source": [
    "#Create a new column 'total_price' which is the product of 'unit_price' and 'quantity'\n",
    "walmart_df['total_price'] = walmart_df['unit_price'] * walmart_df['quantity']\n"
   ]
  },
  {
   "cell_type": "code",
   "execution_count": 20,
   "id": "d2ea789c-9179-4934-88be-55c4987f78f4",
   "metadata": {},
   "outputs": [
    {
     "data": {
      "text/html": [
       "<div>\n",
       "<style scoped>\n",
       "    .dataframe tbody tr th:only-of-type {\n",
       "        vertical-align: middle;\n",
       "    }\n",
       "\n",
       "    .dataframe tbody tr th {\n",
       "        vertical-align: top;\n",
       "    }\n",
       "\n",
       "    .dataframe thead th {\n",
       "        text-align: right;\n",
       "    }\n",
       "</style>\n",
       "<table border=\"1\" class=\"dataframe\">\n",
       "  <thead>\n",
       "    <tr style=\"text-align: right;\">\n",
       "      <th></th>\n",
       "      <th>invoice_id</th>\n",
       "      <th>Branch</th>\n",
       "      <th>City</th>\n",
       "      <th>category</th>\n",
       "      <th>unit_price</th>\n",
       "      <th>quantity</th>\n",
       "      <th>date</th>\n",
       "      <th>time</th>\n",
       "      <th>payment_method</th>\n",
       "      <th>rating</th>\n",
       "      <th>profit_margin</th>\n",
       "      <th>total_price</th>\n",
       "    </tr>\n",
       "  </thead>\n",
       "  <tbody>\n",
       "    <tr>\n",
       "      <th>0</th>\n",
       "      <td>1</td>\n",
       "      <td>WALM003</td>\n",
       "      <td>San Antonio</td>\n",
       "      <td>Health and beauty</td>\n",
       "      <td>74.69</td>\n",
       "      <td>7.0</td>\n",
       "      <td>2019-01-05</td>\n",
       "      <td>13:08:00</td>\n",
       "      <td>Ewallet</td>\n",
       "      <td>9.1</td>\n",
       "      <td>0.48</td>\n",
       "      <td>522.83</td>\n",
       "    </tr>\n",
       "    <tr>\n",
       "      <th>1</th>\n",
       "      <td>2</td>\n",
       "      <td>WALM048</td>\n",
       "      <td>Harlingen</td>\n",
       "      <td>Electronic accessories</td>\n",
       "      <td>15.28</td>\n",
       "      <td>5.0</td>\n",
       "      <td>2019-03-08</td>\n",
       "      <td>10:29:00</td>\n",
       "      <td>Cash</td>\n",
       "      <td>9.6</td>\n",
       "      <td>0.48</td>\n",
       "      <td>76.40</td>\n",
       "    </tr>\n",
       "    <tr>\n",
       "      <th>2</th>\n",
       "      <td>3</td>\n",
       "      <td>WALM067</td>\n",
       "      <td>Haltom City</td>\n",
       "      <td>Home and lifestyle</td>\n",
       "      <td>46.33</td>\n",
       "      <td>7.0</td>\n",
       "      <td>2019-03-03</td>\n",
       "      <td>13:23:00</td>\n",
       "      <td>Credit card</td>\n",
       "      <td>7.4</td>\n",
       "      <td>0.33</td>\n",
       "      <td>324.31</td>\n",
       "    </tr>\n",
       "    <tr>\n",
       "      <th>3</th>\n",
       "      <td>4</td>\n",
       "      <td>WALM064</td>\n",
       "      <td>Bedford</td>\n",
       "      <td>Health and beauty</td>\n",
       "      <td>58.22</td>\n",
       "      <td>8.0</td>\n",
       "      <td>2019-01-27</td>\n",
       "      <td>20:33:00</td>\n",
       "      <td>Ewallet</td>\n",
       "      <td>8.4</td>\n",
       "      <td>0.33</td>\n",
       "      <td>465.76</td>\n",
       "    </tr>\n",
       "    <tr>\n",
       "      <th>4</th>\n",
       "      <td>5</td>\n",
       "      <td>WALM013</td>\n",
       "      <td>Irving</td>\n",
       "      <td>Sports and travel</td>\n",
       "      <td>86.31</td>\n",
       "      <td>7.0</td>\n",
       "      <td>2019-02-08</td>\n",
       "      <td>10:37:00</td>\n",
       "      <td>Ewallet</td>\n",
       "      <td>5.3</td>\n",
       "      <td>0.48</td>\n",
       "      <td>604.17</td>\n",
       "    </tr>\n",
       "  </tbody>\n",
       "</table>\n",
       "</div>"
      ],
      "text/plain": [
       "   invoice_id   Branch         City                category  unit_price  \\\n",
       "0           1  WALM003  San Antonio       Health and beauty       74.69   \n",
       "1           2  WALM048    Harlingen  Electronic accessories       15.28   \n",
       "2           3  WALM067  Haltom City      Home and lifestyle       46.33   \n",
       "3           4  WALM064      Bedford       Health and beauty       58.22   \n",
       "4           5  WALM013       Irving       Sports and travel       86.31   \n",
       "\n",
       "   quantity       date      time payment_method  rating  profit_margin  \\\n",
       "0       7.0 2019-01-05  13:08:00        Ewallet     9.1           0.48   \n",
       "1       5.0 2019-03-08  10:29:00           Cash     9.6           0.48   \n",
       "2       7.0 2019-03-03  13:23:00    Credit card     7.4           0.33   \n",
       "3       8.0 2019-01-27  20:33:00        Ewallet     8.4           0.33   \n",
       "4       7.0 2019-02-08  10:37:00        Ewallet     5.3           0.48   \n",
       "\n",
       "   total_price  \n",
       "0       522.83  \n",
       "1        76.40  \n",
       "2       324.31  \n",
       "3       465.76  \n",
       "4       604.17  "
      ]
     },
     "execution_count": 20,
     "metadata": {},
     "output_type": "execute_result"
    }
   ],
   "source": [
    "walmart_df.head()"
   ]
  },
  {
   "cell_type": "code",
   "execution_count": 21,
   "id": "76e14683-b40d-4e44-a259-138259f0a78b",
   "metadata": {},
   "outputs": [
    {
     "data": {
      "text/html": [
       "<div>\n",
       "<style scoped>\n",
       "    .dataframe tbody tr th:only-of-type {\n",
       "        vertical-align: middle;\n",
       "    }\n",
       "\n",
       "    .dataframe tbody tr th {\n",
       "        vertical-align: top;\n",
       "    }\n",
       "\n",
       "    .dataframe thead th {\n",
       "        text-align: right;\n",
       "    }\n",
       "</style>\n",
       "<table border=\"1\" class=\"dataframe\">\n",
       "  <thead>\n",
       "    <tr style=\"text-align: right;\">\n",
       "      <th></th>\n",
       "      <th>invoice_id</th>\n",
       "      <th>Branch</th>\n",
       "      <th>City</th>\n",
       "      <th>category</th>\n",
       "      <th>unit_price</th>\n",
       "      <th>quantity</th>\n",
       "      <th>date</th>\n",
       "      <th>time</th>\n",
       "      <th>payment_method</th>\n",
       "      <th>rating</th>\n",
       "      <th>profit_margin</th>\n",
       "    </tr>\n",
       "  </thead>\n",
       "  <tbody>\n",
       "  </tbody>\n",
       "</table>\n",
       "</div>"
      ],
      "text/plain": [
       "Empty DataFrame\n",
       "Columns: [invoice_id, Branch, City, category, unit_price, quantity, date, time, payment_method, rating, profit_margin]\n",
       "Index: []"
      ]
     },
     "execution_count": 21,
     "metadata": {},
     "output_type": "execute_result"
    }
   ],
   "source": [
    "invalid_values"
   ]
  },
  {
   "cell_type": "code",
   "execution_count": 22,
   "id": "80406897-4627-499c-9acd-73e2b708962d",
   "metadata": {},
   "outputs": [
    {
     "data": {
      "text/plain": [
       "array(['Health and beauty', 'Electronic accessories',\n",
       "       'Home and lifestyle', 'Sports and travel', 'Food and beverages',\n",
       "       'Fashion accessories'], dtype=object)"
      ]
     },
     "execution_count": 22,
     "metadata": {},
     "output_type": "execute_result"
    }
   ],
   "source": [
    "walmart_df['category'].unique()"
   ]
  },
  {
   "cell_type": "code",
   "execution_count": 23,
   "id": "42ce6457-db23-4180-aa72-2ed202c7cfbe",
   "metadata": {},
   "outputs": [
    {
     "data": {
      "text/plain": [
       "array(['WALM003', 'WALM048', 'WALM067', 'WALM064', 'WALM013', 'WALM026',\n",
       "       'WALM088', 'WALM100', 'WALM066', 'WALM065', 'WALM035', 'WALM027',\n",
       "       'WALM031', 'WALM008', 'WALM029', 'WALM061', 'WALM053', 'WALM044',\n",
       "       'WALM083', 'WALM023', 'WALM001', 'WALM072', 'WALM046', 'WALM012',\n",
       "       'WALM075', 'WALM076', 'WALM098', 'WALM021', 'WALM096', 'WALM022',\n",
       "       'WALM095', 'WALM041', 'WALM070', 'WALM030', 'WALM033', 'WALM079',\n",
       "       'WALM042', 'WALM036', 'WALM056', 'WALM058', 'WALM015', 'WALM063',\n",
       "       'WALM089', 'WALM093', 'WALM045', 'WALM005', 'WALM078', 'WALM037',\n",
       "       'WALM069', 'WALM087', 'WALM020', 'WALM007', 'WALM017', 'WALM094',\n",
       "       'WALM071', 'WALM090', 'WALM097', 'WALM043', 'WALM011', 'WALM049',\n",
       "       'WALM040', 'WALM034', 'WALM014', 'WALM004', 'WALM057', 'WALM055',\n",
       "       'WALM038', 'WALM025', 'WALM024', 'WALM085', 'WALM016', 'WALM018',\n",
       "       'WALM068', 'WALM002', 'WALM062', 'WALM052', 'WALM047', 'WALM054',\n",
       "       'WALM099', 'WALM074', 'WALM028', 'WALM019', 'WALM084', 'WALM039',\n",
       "       'WALM060', 'WALM073', 'WALM059', 'WALM086', 'WALM050', 'WALM081',\n",
       "       'WALM009', 'WALM077', 'WALM091', 'WALM051', 'WALM010', 'WALM032',\n",
       "       'WALM082', 'WALM006', 'WALM092', 'WALM080'], dtype=object)"
      ]
     },
     "execution_count": 23,
     "metadata": {},
     "output_type": "execute_result"
    }
   ],
   "source": [
    "walmart_df['Branch'].unique()"
   ]
  },
  {
   "cell_type": "markdown",
   "id": "5f5a969e-31ed-45cb-bb44-91a27c9acdb5",
   "metadata": {},
   "source": [
    "# Question 1"
   ]
  },
  {
   "cell_type": "markdown",
   "id": "441090ec-a54a-4db6-91db-8c281f7683bb",
   "metadata": {},
   "source": [
    "Question: What are the different payment methods, and how many transactions and\n",
    "items were sold with each method?\n",
    "\n",
    "Purpose: This helps understand customer preferences for payment methods, aiding in\n",
    "payment optimization strategies."
   ]
  },
  {
   "cell_type": "code",
   "execution_count": 26,
   "id": "da256c18-ec87-4416-8194-58af7b7f7a04",
   "metadata": {},
   "outputs": [
    {
     "data": {
      "text/plain": [
       "array(['Ewallet', 'Cash', 'Credit card'], dtype=object)"
      ]
     },
     "execution_count": 26,
     "metadata": {},
     "output_type": "execute_result"
    }
   ],
   "source": [
    "walmart_df['payment_method'].unique()"
   ]
  },
  {
   "cell_type": "code",
   "execution_count": 27,
   "id": "45548c5d-733d-4032-884d-13a74861e526",
   "metadata": {},
   "outputs": [],
   "source": [
    "#create a df payment summary that will have the payment method transaction and total items column\n",
    "#first we group the data by payment column\n",
    "payment_summary = walmart_df.groupby('payment_method').agg(\n",
    "    #have the agg function where we declare a column and the value we want inside it\n",
    "    #for example for 'transaction we want the number of unique invouice id'\n",
    "    transactions=('invoice_id', 'nunique'),\n",
    "    total_items=('quantity', 'sum')\n",
    ").reset_index()"
   ]
  },
  {
   "cell_type": "code",
   "execution_count": 28,
   "id": "171bd49c-9e72-434f-bcd9-77cbc68a2699",
   "metadata": {},
   "outputs": [
    {
     "data": {
      "text/html": [
       "<div>\n",
       "<style scoped>\n",
       "    .dataframe tbody tr th:only-of-type {\n",
       "        vertical-align: middle;\n",
       "    }\n",
       "\n",
       "    .dataframe tbody tr th {\n",
       "        vertical-align: top;\n",
       "    }\n",
       "\n",
       "    .dataframe thead th {\n",
       "        text-align: right;\n",
       "    }\n",
       "</style>\n",
       "<table border=\"1\" class=\"dataframe\">\n",
       "  <thead>\n",
       "    <tr style=\"text-align: right;\">\n",
       "      <th></th>\n",
       "      <th>payment_method</th>\n",
       "      <th>transactions</th>\n",
       "      <th>total_items</th>\n",
       "    </tr>\n",
       "  </thead>\n",
       "  <tbody>\n",
       "    <tr>\n",
       "      <th>0</th>\n",
       "      <td>Cash</td>\n",
       "      <td>1832</td>\n",
       "      <td>4984.0</td>\n",
       "    </tr>\n",
       "    <tr>\n",
       "      <th>1</th>\n",
       "      <td>Credit card</td>\n",
       "      <td>4256</td>\n",
       "      <td>9567.0</td>\n",
       "    </tr>\n",
       "    <tr>\n",
       "      <th>2</th>\n",
       "      <td>Ewallet</td>\n",
       "      <td>3881</td>\n",
       "      <td>8932.0</td>\n",
       "    </tr>\n",
       "  </tbody>\n",
       "</table>\n",
       "</div>"
      ],
      "text/plain": [
       "  payment_method  transactions  total_items\n",
       "0           Cash          1832       4984.0\n",
       "1    Credit card          4256       9567.0\n",
       "2        Ewallet          3881       8932.0"
      ]
     },
     "execution_count": 28,
     "metadata": {},
     "output_type": "execute_result"
    }
   ],
   "source": [
    "#answer\n",
    "payment_summary"
   ]
  },
  {
   "cell_type": "markdown",
   "id": "18f45118-6d77-4c19-838e-79680174de6d",
   "metadata": {},
   "source": [
    "# Question 2"
   ]
  },
  {
   "cell_type": "markdown",
   "id": "f7bebdd1-c1ac-4f04-ab76-a7d1617242c1",
   "metadata": {},
   "source": [
    "Question: Which category received the highest average rating in each branch?\n",
    "\n",
    "Purpose: This allows Walmart to recognize and promote popular categories in specific\n",
    "branches, enhancing customer satisfaction and branch-specific marketing"
   ]
  },
  {
   "cell_type": "code",
   "execution_count": 31,
   "id": "66d677d0-0383-4501-8af9-b4ae7671c197",
   "metadata": {},
   "outputs": [],
   "source": [
    "#Group by 'Branch' and 'category', then calculate the average rating\n",
    "average_rating_per_category = walmart_df.groupby(['Branch', 'category'])['rating'].mean().reset_index()\n",
    "\n"
   ]
  },
  {
   "cell_type": "code",
   "execution_count": 32,
   "id": "30b59460-aaac-4e2b-b101-cf6d6683be28",
   "metadata": {},
   "outputs": [
    {
     "data": {
      "text/html": [
       "<div>\n",
       "<style scoped>\n",
       "    .dataframe tbody tr th:only-of-type {\n",
       "        vertical-align: middle;\n",
       "    }\n",
       "\n",
       "    .dataframe tbody tr th {\n",
       "        vertical-align: top;\n",
       "    }\n",
       "\n",
       "    .dataframe thead th {\n",
       "        text-align: right;\n",
       "    }\n",
       "</style>\n",
       "<table border=\"1\" class=\"dataframe\">\n",
       "  <thead>\n",
       "    <tr style=\"text-align: right;\">\n",
       "      <th></th>\n",
       "      <th>Branch</th>\n",
       "      <th>category</th>\n",
       "      <th>rating</th>\n",
       "    </tr>\n",
       "  </thead>\n",
       "  <tbody>\n",
       "    <tr>\n",
       "      <th>0</th>\n",
       "      <td>WALM001</td>\n",
       "      <td>Electronic accessories</td>\n",
       "      <td>7.450000</td>\n",
       "    </tr>\n",
       "    <tr>\n",
       "      <th>1</th>\n",
       "      <td>WALM001</td>\n",
       "      <td>Fashion accessories</td>\n",
       "      <td>6.357576</td>\n",
       "    </tr>\n",
       "    <tr>\n",
       "      <th>2</th>\n",
       "      <td>WALM001</td>\n",
       "      <td>Home and lifestyle</td>\n",
       "      <td>6.163889</td>\n",
       "    </tr>\n",
       "    <tr>\n",
       "      <th>3</th>\n",
       "      <td>WALM001</td>\n",
       "      <td>Sports and travel</td>\n",
       "      <td>6.533333</td>\n",
       "    </tr>\n",
       "    <tr>\n",
       "      <th>4</th>\n",
       "      <td>WALM002</td>\n",
       "      <td>Electronic accessories</td>\n",
       "      <td>8.125000</td>\n",
       "    </tr>\n",
       "  </tbody>\n",
       "</table>\n",
       "</div>"
      ],
      "text/plain": [
       "    Branch                category    rating\n",
       "0  WALM001  Electronic accessories  7.450000\n",
       "1  WALM001     Fashion accessories  6.357576\n",
       "2  WALM001      Home and lifestyle  6.163889\n",
       "3  WALM001       Sports and travel  6.533333\n",
       "4  WALM002  Electronic accessories  8.125000"
      ]
     },
     "execution_count": 32,
     "metadata": {},
     "output_type": "execute_result"
    }
   ],
   "source": [
    "average_rating_per_category.head()"
   ]
  },
  {
   "cell_type": "code",
   "execution_count": 33,
   "id": "b4d0f895-85a0-4cb1-9024-4d532c15c22c",
   "metadata": {},
   "outputs": [],
   "source": [
    "#For each branch, find the category with the highest average rating\n",
    "#average_rating_per_category.groupby('Branch')['rating'] makes sure we group for example walm001 on the branches then the rating of walm001 \n",
    "#idxmax() finds the index of the row that contains the maximum value\n",
    "#loc[] function is used to select the row we want so here since we are returning 1 per each branch it only gets the highest rating\n",
    "highest_rated_category_per_branch = average_rating_per_category.loc[average_rating_per_category.groupby('Branch')['rating'].idxmax()]\n"
   ]
  },
  {
   "cell_type": "code",
   "execution_count": 34,
   "id": "9314a742-a51e-4036-ae97-1b7a966ac3cb",
   "metadata": {},
   "outputs": [],
   "source": [
    "#Reset the index\n",
    "highest_rated_category_per_branch = highest_rated_category_per_branch.reset_index(drop=True)\n"
   ]
  },
  {
   "cell_type": "code",
   "execution_count": 35,
   "id": "0df93761-da2a-4ad4-a85a-ecddcae8280a",
   "metadata": {},
   "outputs": [
    {
     "data": {
      "text/html": [
       "<div>\n",
       "<style scoped>\n",
       "    .dataframe tbody tr th:only-of-type {\n",
       "        vertical-align: middle;\n",
       "    }\n",
       "\n",
       "    .dataframe tbody tr th {\n",
       "        vertical-align: top;\n",
       "    }\n",
       "\n",
       "    .dataframe thead th {\n",
       "        text-align: right;\n",
       "    }\n",
       "</style>\n",
       "<table border=\"1\" class=\"dataframe\">\n",
       "  <thead>\n",
       "    <tr style=\"text-align: right;\">\n",
       "      <th></th>\n",
       "      <th>Branch</th>\n",
       "      <th>category</th>\n",
       "      <th>rating</th>\n",
       "    </tr>\n",
       "  </thead>\n",
       "  <tbody>\n",
       "    <tr>\n",
       "      <th>0</th>\n",
       "      <td>WALM001</td>\n",
       "      <td>Electronic accessories</td>\n",
       "      <td>7.450000</td>\n",
       "    </tr>\n",
       "    <tr>\n",
       "      <th>1</th>\n",
       "      <td>WALM002</td>\n",
       "      <td>Food and beverages</td>\n",
       "      <td>8.250000</td>\n",
       "    </tr>\n",
       "    <tr>\n",
       "      <th>2</th>\n",
       "      <td>WALM003</td>\n",
       "      <td>Sports and travel</td>\n",
       "      <td>7.500000</td>\n",
       "    </tr>\n",
       "    <tr>\n",
       "      <th>3</th>\n",
       "      <td>WALM004</td>\n",
       "      <td>Food and beverages</td>\n",
       "      <td>9.300000</td>\n",
       "    </tr>\n",
       "    <tr>\n",
       "      <th>4</th>\n",
       "      <td>WALM005</td>\n",
       "      <td>Health and beauty</td>\n",
       "      <td>8.366667</td>\n",
       "    </tr>\n",
       "  </tbody>\n",
       "</table>\n",
       "</div>"
      ],
      "text/plain": [
       "    Branch                category    rating\n",
       "0  WALM001  Electronic accessories  7.450000\n",
       "1  WALM002      Food and beverages  8.250000\n",
       "2  WALM003       Sports and travel  7.500000\n",
       "3  WALM004      Food and beverages  9.300000\n",
       "4  WALM005       Health and beauty  8.366667"
      ]
     },
     "execution_count": 35,
     "metadata": {},
     "output_type": "execute_result"
    }
   ],
   "source": [
    "#answer\n",
    "highest_rated_category_per_branch.head()"
   ]
  },
  {
   "cell_type": "markdown",
   "id": "6c7c141e-1304-4b99-9c48-45cfdbb2a432",
   "metadata": {},
   "source": [
    "# Question 3"
   ]
  },
  {
   "cell_type": "markdown",
   "id": "8fba00ec-0126-4c47-ac01-50a0bb8bf542",
   "metadata": {},
   "source": [
    "Question: What is the busiest day of the week for each branch based on transaction\n",
    "volume?\n",
    "\n",
    "Purpose: This insight helps in optimizing staffing and inventory management to\n",
    "accommodate peak days."
   ]
  },
  {
   "cell_type": "code",
   "execution_count": 38,
   "id": "1c01a98c-7973-4424-81aa-da0534e7e066",
   "metadata": {},
   "outputs": [],
   "source": [
    "#Extract the day of the week from the 'date' column (0=Monday, 6=Sunday)\n",
    "walmart_df['day_of_week'] = walmart_df['date'].dt.day_name()"
   ]
  },
  {
   "cell_type": "code",
   "execution_count": 39,
   "id": "7f0c446a-1970-47bb-924a-42b0e37a6132",
   "metadata": {},
   "outputs": [],
   "source": [
    "#Group by 'Branch' and 'day_of_week', then count the number of transactions (unique 'invoice_id')\n",
    "transaction_volume_per_day = walmart_df.groupby(['Branch', 'day_of_week'])['invoice_id'].nunique().reset_index()\n"
   ]
  },
  {
   "cell_type": "code",
   "execution_count": 40,
   "id": "4a7ab8cb-d041-4170-9cad-e7a38d8f9dae",
   "metadata": {
    "scrolled": true
   },
   "outputs": [
    {
     "data": {
      "text/html": [
       "<div>\n",
       "<style scoped>\n",
       "    .dataframe tbody tr th:only-of-type {\n",
       "        vertical-align: middle;\n",
       "    }\n",
       "\n",
       "    .dataframe tbody tr th {\n",
       "        vertical-align: top;\n",
       "    }\n",
       "\n",
       "    .dataframe thead th {\n",
       "        text-align: right;\n",
       "    }\n",
       "</style>\n",
       "<table border=\"1\" class=\"dataframe\">\n",
       "  <thead>\n",
       "    <tr style=\"text-align: right;\">\n",
       "      <th></th>\n",
       "      <th>Branch</th>\n",
       "      <th>day_of_week</th>\n",
       "      <th>invoice_id</th>\n",
       "    </tr>\n",
       "  </thead>\n",
       "  <tbody>\n",
       "    <tr>\n",
       "      <th>0</th>\n",
       "      <td>WALM001</td>\n",
       "      <td>Friday</td>\n",
       "      <td>12</td>\n",
       "    </tr>\n",
       "    <tr>\n",
       "      <th>1</th>\n",
       "      <td>WALM001</td>\n",
       "      <td>Monday</td>\n",
       "      <td>8</td>\n",
       "    </tr>\n",
       "    <tr>\n",
       "      <th>2</th>\n",
       "      <td>WALM001</td>\n",
       "      <td>Saturday</td>\n",
       "      <td>10</td>\n",
       "    </tr>\n",
       "    <tr>\n",
       "      <th>3</th>\n",
       "      <td>WALM001</td>\n",
       "      <td>Sunday</td>\n",
       "      <td>7</td>\n",
       "    </tr>\n",
       "    <tr>\n",
       "      <th>4</th>\n",
       "      <td>WALM001</td>\n",
       "      <td>Thursday</td>\n",
       "      <td>16</td>\n",
       "    </tr>\n",
       "  </tbody>\n",
       "</table>\n",
       "</div>"
      ],
      "text/plain": [
       "    Branch day_of_week  invoice_id\n",
       "0  WALM001      Friday          12\n",
       "1  WALM001      Monday           8\n",
       "2  WALM001    Saturday          10\n",
       "3  WALM001      Sunday           7\n",
       "4  WALM001    Thursday          16"
      ]
     },
     "execution_count": 40,
     "metadata": {},
     "output_type": "execute_result"
    }
   ],
   "source": [
    "transaction_volume_per_day.head()"
   ]
  },
  {
   "cell_type": "code",
   "execution_count": 41,
   "id": "ac699a7a-be8e-489d-9427-e2e8559137d1",
   "metadata": {},
   "outputs": [],
   "source": [
    "#For each branch, find the busiest day (the day with the highest transaction count)\n",
    "busiest_day_per_branch = transaction_volume_per_day.loc[transaction_volume_per_day.groupby('Branch')['invoice_id'].idxmax()]"
   ]
  },
  {
   "cell_type": "code",
   "execution_count": 42,
   "id": "ef5f370e-0d4c-4d8e-9609-1e1874bf65cf",
   "metadata": {},
   "outputs": [],
   "source": [
    "#Reset the index \n",
    "busiest_day_per_branch = busiest_day_per_branch.reset_index(drop=True)"
   ]
  },
  {
   "cell_type": "code",
   "execution_count": 43,
   "id": "1531793b-6bdd-4d90-9c03-0d492b6ad8d8",
   "metadata": {},
   "outputs": [
    {
     "data": {
      "text/html": [
       "<div>\n",
       "<style scoped>\n",
       "    .dataframe tbody tr th:only-of-type {\n",
       "        vertical-align: middle;\n",
       "    }\n",
       "\n",
       "    .dataframe tbody tr th {\n",
       "        vertical-align: top;\n",
       "    }\n",
       "\n",
       "    .dataframe thead th {\n",
       "        text-align: right;\n",
       "    }\n",
       "</style>\n",
       "<table border=\"1\" class=\"dataframe\">\n",
       "  <thead>\n",
       "    <tr style=\"text-align: right;\">\n",
       "      <th></th>\n",
       "      <th>Branch</th>\n",
       "      <th>day_of_week</th>\n",
       "      <th>invoice_id</th>\n",
       "    </tr>\n",
       "  </thead>\n",
       "  <tbody>\n",
       "    <tr>\n",
       "      <th>0</th>\n",
       "      <td>WALM001</td>\n",
       "      <td>Thursday</td>\n",
       "      <td>16</td>\n",
       "    </tr>\n",
       "    <tr>\n",
       "      <th>1</th>\n",
       "      <td>WALM002</td>\n",
       "      <td>Thursday</td>\n",
       "      <td>15</td>\n",
       "    </tr>\n",
       "    <tr>\n",
       "      <th>2</th>\n",
       "      <td>WALM003</td>\n",
       "      <td>Tuesday</td>\n",
       "      <td>33</td>\n",
       "    </tr>\n",
       "    <tr>\n",
       "      <th>3</th>\n",
       "      <td>WALM004</td>\n",
       "      <td>Sunday</td>\n",
       "      <td>14</td>\n",
       "    </tr>\n",
       "    <tr>\n",
       "      <th>4</th>\n",
       "      <td>WALM005</td>\n",
       "      <td>Wednesday</td>\n",
       "      <td>19</td>\n",
       "    </tr>\n",
       "  </tbody>\n",
       "</table>\n",
       "</div>"
      ],
      "text/plain": [
       "    Branch day_of_week  invoice_id\n",
       "0  WALM001    Thursday          16\n",
       "1  WALM002    Thursday          15\n",
       "2  WALM003     Tuesday          33\n",
       "3  WALM004      Sunday          14\n",
       "4  WALM005   Wednesday          19"
      ]
     },
     "execution_count": 43,
     "metadata": {},
     "output_type": "execute_result"
    }
   ],
   "source": [
    "#answer\n",
    "busiest_day_per_branch.head()"
   ]
  },
  {
   "cell_type": "markdown",
   "id": "5ff92391-e4ec-4a31-88a9-0fe8bcca88aa",
   "metadata": {},
   "source": [
    "# Question 4"
   ]
  },
  {
   "cell_type": "markdown",
   "id": "8084f52b-2a7d-400b-9ab2-3ef06bde06a6",
   "metadata": {},
   "source": [
    "Question: How many items were sold through each payment method?\n",
    "\n",
    "Purpose: This helps Walmart track sales volume by payment type, providing insights\n",
    "into customer purchasing habits."
   ]
  },
  {
   "cell_type": "code",
   "execution_count": 46,
   "id": "b34c454c-d274-424c-8df1-d74f917b336b",
   "metadata": {},
   "outputs": [],
   "source": [
    "#Group by 'payment_method' and sum the 'quantity' to get the total number of items sold\n",
    "items_sold_per_payment_method = walmart_df.groupby('payment_method')['quantity'].sum().reset_index()\n"
   ]
  },
  {
   "cell_type": "code",
   "execution_count": 47,
   "id": "9979a369-9e59-4d7f-82ac-09a171bc5a6c",
   "metadata": {},
   "outputs": [
    {
     "data": {
      "text/html": [
       "<div>\n",
       "<style scoped>\n",
       "    .dataframe tbody tr th:only-of-type {\n",
       "        vertical-align: middle;\n",
       "    }\n",
       "\n",
       "    .dataframe tbody tr th {\n",
       "        vertical-align: top;\n",
       "    }\n",
       "\n",
       "    .dataframe thead th {\n",
       "        text-align: right;\n",
       "    }\n",
       "</style>\n",
       "<table border=\"1\" class=\"dataframe\">\n",
       "  <thead>\n",
       "    <tr style=\"text-align: right;\">\n",
       "      <th></th>\n",
       "      <th>payment_method</th>\n",
       "      <th>quantity</th>\n",
       "    </tr>\n",
       "  </thead>\n",
       "  <tbody>\n",
       "    <tr>\n",
       "      <th>0</th>\n",
       "      <td>Cash</td>\n",
       "      <td>4984.0</td>\n",
       "    </tr>\n",
       "    <tr>\n",
       "      <th>1</th>\n",
       "      <td>Credit card</td>\n",
       "      <td>9567.0</td>\n",
       "    </tr>\n",
       "    <tr>\n",
       "      <th>2</th>\n",
       "      <td>Ewallet</td>\n",
       "      <td>8932.0</td>\n",
       "    </tr>\n",
       "  </tbody>\n",
       "</table>\n",
       "</div>"
      ],
      "text/plain": [
       "  payment_method  quantity\n",
       "0           Cash    4984.0\n",
       "1    Credit card    9567.0\n",
       "2        Ewallet    8932.0"
      ]
     },
     "execution_count": 47,
     "metadata": {},
     "output_type": "execute_result"
    }
   ],
   "source": [
    "#answer\n",
    "items_sold_per_payment_method"
   ]
  },
  {
   "cell_type": "markdown",
   "id": "78874956-152e-4d4d-af1e-b42bc77f3391",
   "metadata": {},
   "source": [
    "# Question 5"
   ]
  },
  {
   "cell_type": "markdown",
   "id": "85f6246a-8346-44eb-9a29-fdc11fcf28fe",
   "metadata": {},
   "source": [
    "Question: What is the most frequently used payment method in each branch?\n",
    "\n",
    "Purpose: This information aids in understanding branch-specific payment preferences,\n",
    "potentially allowing branches to streamline their payment processing systems."
   ]
  },
  {
   "cell_type": "code",
   "execution_count": 50,
   "id": "75273fff-123d-4a26-8e4d-ae6ba6f20f26",
   "metadata": {},
   "outputs": [],
   "source": [
    "#Group by 'Branch' and 'payment_method', then count the occurrences\n",
    "payment_method_count = walmart_df.groupby(['Branch', 'payment_method']).size().reset_index(name='count')"
   ]
  },
  {
   "cell_type": "code",
   "execution_count": 51,
   "id": "ea435b33-d50d-4bca-bef3-38c9f169ca0b",
   "metadata": {},
   "outputs": [
    {
     "data": {
      "text/html": [
       "<div>\n",
       "<style scoped>\n",
       "    .dataframe tbody tr th:only-of-type {\n",
       "        vertical-align: middle;\n",
       "    }\n",
       "\n",
       "    .dataframe tbody tr th {\n",
       "        vertical-align: top;\n",
       "    }\n",
       "\n",
       "    .dataframe thead th {\n",
       "        text-align: right;\n",
       "    }\n",
       "</style>\n",
       "<table border=\"1\" class=\"dataframe\">\n",
       "  <thead>\n",
       "    <tr style=\"text-align: right;\">\n",
       "      <th></th>\n",
       "      <th>Branch</th>\n",
       "      <th>payment_method</th>\n",
       "      <th>count</th>\n",
       "    </tr>\n",
       "  </thead>\n",
       "  <tbody>\n",
       "    <tr>\n",
       "      <th>0</th>\n",
       "      <td>WALM001</td>\n",
       "      <td>Credit card</td>\n",
       "      <td>29</td>\n",
       "    </tr>\n",
       "    <tr>\n",
       "      <th>1</th>\n",
       "      <td>WALM001</td>\n",
       "      <td>Ewallet</td>\n",
       "      <td>45</td>\n",
       "    </tr>\n",
       "    <tr>\n",
       "      <th>2</th>\n",
       "      <td>WALM002</td>\n",
       "      <td>Cash</td>\n",
       "      <td>2</td>\n",
       "    </tr>\n",
       "    <tr>\n",
       "      <th>3</th>\n",
       "      <td>WALM002</td>\n",
       "      <td>Credit card</td>\n",
       "      <td>26</td>\n",
       "    </tr>\n",
       "    <tr>\n",
       "      <th>4</th>\n",
       "      <td>WALM002</td>\n",
       "      <td>Ewallet</td>\n",
       "      <td>37</td>\n",
       "    </tr>\n",
       "  </tbody>\n",
       "</table>\n",
       "</div>"
      ],
      "text/plain": [
       "    Branch payment_method  count\n",
       "0  WALM001    Credit card     29\n",
       "1  WALM001        Ewallet     45\n",
       "2  WALM002           Cash      2\n",
       "3  WALM002    Credit card     26\n",
       "4  WALM002        Ewallet     37"
      ]
     },
     "execution_count": 51,
     "metadata": {},
     "output_type": "execute_result"
    }
   ],
   "source": [
    "payment_method_count.head()"
   ]
  },
  {
   "cell_type": "code",
   "execution_count": 52,
   "id": "cc2e0327-b0c1-488c-b415-9ae456bdd2d8",
   "metadata": {},
   "outputs": [],
   "source": [
    "#For each branch, find the most frequently used payment method\n",
    "most_frequent_payment_method_per_branch = payment_method_count.loc[payment_method_count.groupby('Branch')['count'].idxmax()]"
   ]
  },
  {
   "cell_type": "code",
   "execution_count": 53,
   "id": "bfa283ba-c022-415a-89a9-2d3b54a000f4",
   "metadata": {},
   "outputs": [
    {
     "data": {
      "text/html": [
       "<div>\n",
       "<style scoped>\n",
       "    .dataframe tbody tr th:only-of-type {\n",
       "        vertical-align: middle;\n",
       "    }\n",
       "\n",
       "    .dataframe tbody tr th {\n",
       "        vertical-align: top;\n",
       "    }\n",
       "\n",
       "    .dataframe thead th {\n",
       "        text-align: right;\n",
       "    }\n",
       "</style>\n",
       "<table border=\"1\" class=\"dataframe\">\n",
       "  <thead>\n",
       "    <tr style=\"text-align: right;\">\n",
       "      <th></th>\n",
       "      <th>Branch</th>\n",
       "      <th>payment_method</th>\n",
       "      <th>count</th>\n",
       "    </tr>\n",
       "  </thead>\n",
       "  <tbody>\n",
       "    <tr>\n",
       "      <th>1</th>\n",
       "      <td>WALM001</td>\n",
       "      <td>Ewallet</td>\n",
       "      <td>45</td>\n",
       "    </tr>\n",
       "    <tr>\n",
       "      <th>4</th>\n",
       "      <td>WALM002</td>\n",
       "      <td>Ewallet</td>\n",
       "      <td>37</td>\n",
       "    </tr>\n",
       "    <tr>\n",
       "      <th>6</th>\n",
       "      <td>WALM003</td>\n",
       "      <td>Credit card</td>\n",
       "      <td>115</td>\n",
       "    </tr>\n",
       "    <tr>\n",
       "      <th>10</th>\n",
       "      <td>WALM004</td>\n",
       "      <td>Ewallet</td>\n",
       "      <td>44</td>\n",
       "    </tr>\n",
       "    <tr>\n",
       "      <th>13</th>\n",
       "      <td>WALM005</td>\n",
       "      <td>Ewallet</td>\n",
       "      <td>56</td>\n",
       "    </tr>\n",
       "  </tbody>\n",
       "</table>\n",
       "</div>"
      ],
      "text/plain": [
       "     Branch payment_method  count\n",
       "1   WALM001        Ewallet     45\n",
       "4   WALM002        Ewallet     37\n",
       "6   WALM003    Credit card    115\n",
       "10  WALM004        Ewallet     44\n",
       "13  WALM005        Ewallet     56"
      ]
     },
     "execution_count": 53,
     "metadata": {},
     "output_type": "execute_result"
    }
   ],
   "source": [
    "most_frequent_payment_method_per_branch.head()"
   ]
  },
  {
   "cell_type": "code",
   "execution_count": 54,
   "id": "3540f2c3-aac7-4841-a775-83c3505e6a29",
   "metadata": {},
   "outputs": [],
   "source": [
    "#Reset the index\n",
    "most_frequent_payment_method_per_branch = most_frequent_payment_method_per_branch.reset_index(drop=True)"
   ]
  },
  {
   "cell_type": "code",
   "execution_count": 55,
   "id": "f98c7e60-73da-4a17-af36-57d7a130865b",
   "metadata": {},
   "outputs": [
    {
     "data": {
      "text/html": [
       "<div>\n",
       "<style scoped>\n",
       "    .dataframe tbody tr th:only-of-type {\n",
       "        vertical-align: middle;\n",
       "    }\n",
       "\n",
       "    .dataframe tbody tr th {\n",
       "        vertical-align: top;\n",
       "    }\n",
       "\n",
       "    .dataframe thead th {\n",
       "        text-align: right;\n",
       "    }\n",
       "</style>\n",
       "<table border=\"1\" class=\"dataframe\">\n",
       "  <thead>\n",
       "    <tr style=\"text-align: right;\">\n",
       "      <th></th>\n",
       "      <th>Branch</th>\n",
       "      <th>payment_method</th>\n",
       "      <th>count</th>\n",
       "    </tr>\n",
       "  </thead>\n",
       "  <tbody>\n",
       "    <tr>\n",
       "      <th>0</th>\n",
       "      <td>WALM001</td>\n",
       "      <td>Ewallet</td>\n",
       "      <td>45</td>\n",
       "    </tr>\n",
       "    <tr>\n",
       "      <th>1</th>\n",
       "      <td>WALM002</td>\n",
       "      <td>Ewallet</td>\n",
       "      <td>37</td>\n",
       "    </tr>\n",
       "    <tr>\n",
       "      <th>2</th>\n",
       "      <td>WALM003</td>\n",
       "      <td>Credit card</td>\n",
       "      <td>115</td>\n",
       "    </tr>\n",
       "    <tr>\n",
       "      <th>3</th>\n",
       "      <td>WALM004</td>\n",
       "      <td>Ewallet</td>\n",
       "      <td>44</td>\n",
       "    </tr>\n",
       "    <tr>\n",
       "      <th>4</th>\n",
       "      <td>WALM005</td>\n",
       "      <td>Ewallet</td>\n",
       "      <td>56</td>\n",
       "    </tr>\n",
       "  </tbody>\n",
       "</table>\n",
       "</div>"
      ],
      "text/plain": [
       "    Branch payment_method  count\n",
       "0  WALM001        Ewallet     45\n",
       "1  WALM002        Ewallet     37\n",
       "2  WALM003    Credit card    115\n",
       "3  WALM004        Ewallet     44\n",
       "4  WALM005        Ewallet     56"
      ]
     },
     "execution_count": 55,
     "metadata": {},
     "output_type": "execute_result"
    }
   ],
   "source": [
    "#answer\n",
    "most_frequent_payment_method_per_branch.head()"
   ]
  },
  {
   "cell_type": "markdown",
   "id": "477f0a81-03f4-4f94-9481-cab78a406b8a",
   "metadata": {},
   "source": [
    "# connect data to sql database"
   ]
  },
  {
   "cell_type": "code",
   "execution_count": 101,
   "id": "4d992850-fabe-43ba-b00e-571bd98605ec",
   "metadata": {},
   "outputs": [],
   "source": [
    "from sqlalchemy import create_engine\n",
    "import pyodbc"
   ]
  },
  {
   "cell_type": "markdown",
   "id": "f0124f79-5597-45b3-a1ac-20143daa9226",
   "metadata": {},
   "source": [
    "for a company u need most likely\n",
    "Connection details\n",
    "\n",
    "server = 'KARIELS4070PC'\n",
    "database = 'master'\n",
    "username = 'your_username' #input username and password \n",
    "password = 'your_password'\n",
    "\n",
    "Create the connection engine\n",
    "\n",
    "engine = create_engine(f'mssql+pyodbc://{username}:{password}@{server}/{database}?driver=ODBC+Driver+17+for+SQL+Server')\n"
   ]
  },
  {
   "cell_type": "code",
   "execution_count": 135,
   "id": "c4d31a6c-2a7b-4187-839b-7c122aaacc50",
   "metadata": {},
   "outputs": [],
   "source": [
    "#Connection details\n",
    "server = 'KARIELS4070PC'\n",
    "database = 'master'"
   ]
  },
  {
   "cell_type": "code",
   "execution_count": 137,
   "id": "71714fd6-0755-4bc1-aa93-766fea4088c5",
   "metadata": {},
   "outputs": [],
   "source": [
    "#Create the connection engine with Windows Authentication\n",
    "engine = create_engine(f'mssql+pyodbc://@{server}/{database}?trusted_connection=yes&driver=ODBC+Driver+17+for+SQL+Server')"
   ]
  },
  {
   "cell_type": "code",
   "execution_count": 139,
   "id": "ba59b100-64a6-4762-a541-bc21a41ab42a",
   "metadata": {},
   "outputs": [
    {
     "data": {
      "text/plain": [
       "Engine(mssql+pyodbc://@KARIELS4070PC/master?driver=ODBC+Driver+17+for+SQL+Server&trusted_connection=yes)"
      ]
     },
     "execution_count": 139,
     "metadata": {},
     "output_type": "execute_result"
    }
   ],
   "source": [
    "engine"
   ]
  },
  {
   "cell_type": "markdown",
   "id": "ff5557fc-1bc1-4f4d-be58-5bb95be682c4",
   "metadata": {},
   "source": [
    "UNCOMMENT CODE BELOW TO PUSH TO DATABASE"
   ]
  },
  {
   "cell_type": "code",
   "execution_count": 132,
   "id": "39007bf8-8b3a-4b46-87a8-6ac2922d6e52",
   "metadata": {},
   "outputs": [],
   "source": [
    "#Push the DataFrame to SQL Server as 'walmart' table\n",
    "#uncomment this code to PUSH TO DATABASE\n",
    "#walmart_df.to_sql('walmart', con=engine, if_exists='replace', index=False)\n"
   ]
  },
  {
   "cell_type": "code",
   "execution_count": null,
   "id": "e8dfeeaf-7068-4b33-b5eb-4bb8521e41ae",
   "metadata": {},
   "outputs": [],
   "source": []
  }
 ],
 "metadata": {
  "kernelspec": {
   "display_name": "Python [conda env:base] *",
   "language": "python",
   "name": "conda-base-py"
  },
  "language_info": {
   "codemirror_mode": {
    "name": "ipython",
    "version": 3
   },
   "file_extension": ".py",
   "mimetype": "text/x-python",
   "name": "python",
   "nbconvert_exporter": "python",
   "pygments_lexer": "ipython3",
   "version": "3.12.7"
  }
 },
 "nbformat": 4,
 "nbformat_minor": 5
}
